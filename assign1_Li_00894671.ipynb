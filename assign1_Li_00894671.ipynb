{
  "nbformat": 4,
  "nbformat_minor": 0,
  "metadata": {
    "colab": {
      "provenance": [],
      "authorship_tag": "ABX9TyOPwGJJRKKRHZsZBNOhQd34",
      "include_colab_link": true
    },
    "kernelspec": {
      "name": "python3",
      "display_name": "Python 3"
    },
    "language_info": {
      "name": "python"
    }
  },
  "cells": [
    {
      "cell_type": "markdown",
      "metadata": {
        "id": "view-in-github",
        "colab_type": "text"
      },
      "source": [
        "<a href=\"https://colab.research.google.com/github/AxinLi1/CS350Proj3/blob/main/assign1_Li_00894671.ipynb\" target=\"_parent\"><img src=\"https://colab.research.google.com/assets/colab-badge.svg\" alt=\"Open In Colab\"/></a>"
      ]
    },
    {
      "cell_type": "code",
      "execution_count": 76,
      "metadata": {
        "id": "aUbgq4R5W3Ho"
      },
      "outputs": [],
      "source": [
        "from os import lchown\n",
        "import math\n",
        "from scipy.special import gamma\n",
        "import numpy as np\n",
        "import random\n",
        "import matplotlib.pyplot as plt"
      ]
    },
    {
      "cell_type": "code",
      "source": [
        "def transcendentalFunction():\n",
        "  return lambda x: x*math.exp(x)+x"
      ],
      "metadata": {
        "id": "CDYq_jo1bN5a"
      },
      "execution_count": 1,
      "outputs": []
    },
    {
      "cell_type": "code",
      "source": [
        "def gammaFunction():\n",
        "  return lambda x: gamma(x)"
      ],
      "metadata": {
        "id": "ddhFY5i2dfyb"
      },
      "execution_count": 3,
      "outputs": []
    },
    {
      "cell_type": "code",
      "source": [
        "def invert(function, y, interval=(0, 0)):\n",
        "  low, high = interval[0], y\n",
        "\n",
        "  while low <= high:\n",
        "    mid = low + (high - low) / 2\n",
        "    f_mid = function(mid)\n",
        "\n",
        "    if f_mid == y:\n",
        "      return mid\n",
        "    elif f_mid < y:\n",
        "      low = mid\n",
        "    else:\n",
        "      high = mid\n",
        "\n",
        "  return None"
      ],
      "metadata": {
        "id": "hQnz3Levdlwj"
      },
      "execution_count": 4,
      "outputs": []
    },
    {
      "cell_type": "code",
      "source": [
        "# Maybe need fix\n",
        "# More samples?\n",
        "def integrate(function, interval=(0,0)) :\n",
        "  low, high = interval[0], interval[1]\n",
        "  N = 1000\n",
        "  func_a, func_b = function(low), function(high)\n",
        "  arr = np.zeros(N)\n",
        "\n",
        "  for i in range(len(arr)):\n",
        "    x = random.uniform(low, high)\n",
        "    arr[i] = function(x)\n",
        "\n",
        "  integral = np.sum(arr)\n",
        "  result = (high - low) / N * integral\n",
        "\n",
        "  return result"
      ],
      "metadata": {
        "id": "tyVs01lTdn1v"
      },
      "execution_count": 31,
      "outputs": []
    },
    {
      "cell_type": "code",
      "source": [
        "sineFunction = lambda x: math.sin(x)/x"
      ],
      "metadata": {
        "id": "dmCOqwN1ds9D"
      },
      "execution_count": 6,
      "outputs": []
    },
    {
      "cell_type": "code",
      "source": [
        "def thcf(p):\n",
        "  x1, x2 = p\n",
        "  return lambda x1, x2: (2*(x1**2)-1.05*(x1**4)+((x1**6)/6)+(x1*x2)+(x2**2))\n",
        "\n",
        "def thcf_grad(p):\n",
        "  return 0"
      ],
      "metadata": {
        "id": "eC6DsDFm1psK"
      },
      "execution_count": 132,
      "outputs": []
    },
    {
      "cell_type": "code",
      "source": [
        "def opt(grad, start, step, maximumGradientLength):\n",
        "\n",
        "  return 0"
      ],
      "metadata": {
        "id": "-DqG9Q-OnvZ2"
      },
      "execution_count": 66,
      "outputs": []
    },
    {
      "cell_type": "code",
      "source": [
        "def generateContourPlot():\n",
        "\n"
      ],
      "metadata": {
        "colab": {
          "base_uri": "https://localhost:8080/",
          "height": 110
        },
        "id": "Ns0I21TU5fNt",
        "outputId": "9048db2e-3f27-4a4c-9fff-09d6785f6c6c"
      },
      "execution_count": 133,
      "outputs": [
        {
          "output_type": "error",
          "ename": "SyntaxError",
          "evalue": "incomplete input (<ipython-input-133-8ef2abad5d36>, line 2)",
          "traceback": [
            "\u001b[0;36m  File \u001b[0;32m\"<ipython-input-133-8ef2abad5d36>\"\u001b[0;36m, line \u001b[0;32m2\u001b[0m\n\u001b[0;31m    \u001b[0m\n\u001b[0m    ^\u001b[0m\n\u001b[0;31mSyntaxError\u001b[0m\u001b[0;31m:\u001b[0m incomplete input\n"
          ]
        }
      ]
    },
    {
      "cell_type": "markdown",
      "source": [],
      "metadata": {
        "id": "xnu_Iz1T5xRu"
      }
    },
    {
      "cell_type": "code",
      "source": [
        "result_function = thcf((0,0))\n",
        "result = result_function(2.9,4.2)\n",
        "print(result)\n"
      ],
      "metadata": {
        "colab": {
          "base_uri": "https://localhost:8080/"
        },
        "id": "pAO_FXgE_Tjy",
        "outputId": "34d898fd-63d8-460e-e5f8-75daa61b8e56"
      },
      "execution_count": 143,
      "outputs": [
        {
          "output_type": "stream",
          "name": "stdout",
          "text": [
            "71.51271516666664\n"
          ]
        }
      ]
    }
  ]
}