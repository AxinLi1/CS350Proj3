{
  "nbformat": 4,
  "nbformat_minor": 0,
  "metadata": {
    "colab": {
      "provenance": [],
      "authorship_tag": "ABX9TyMfS2RfauYAjUImnr6QxkOn",
      "include_colab_link": true
    },
    "kernelspec": {
      "name": "python3",
      "display_name": "Python 3"
    },
    "language_info": {
      "name": "python"
    }
  },
  "cells": [
    {
      "cell_type": "markdown",
      "metadata": {
        "id": "view-in-github",
        "colab_type": "text"
      },
      "source": [
        "<a href=\"https://colab.research.google.com/github/AxinLi1/CS350Proj3/blob/main/assign1_Li_00894671.ipynb\" target=\"_parent\"><img src=\"https://colab.research.google.com/assets/colab-badge.svg\" alt=\"Open In Colab\"/></a>"
      ]
    },
    {
      "cell_type": "code",
      "execution_count": 17,
      "metadata": {
        "id": "aUbgq4R5W3Ho"
      },
      "outputs": [],
      "source": [
        "from os import lchown\n",
        "import math\n",
        "from scipy.special import gamma\n",
        "import numpy as np\n",
        "import random"
      ]
    },
    {
      "cell_type": "code",
      "source": [
        "def transcendentalFunction():\n",
        "  return lambda x: x*math.exp(x)+x"
      ],
      "metadata": {
        "id": "CDYq_jo1bN5a"
      },
      "execution_count": 3,
      "outputs": []
    },
    {
      "cell_type": "code",
      "source": [
        "def gammaFunction():\n",
        "  return lambda x: gamma(x)"
      ],
      "metadata": {
        "id": "ddhFY5i2dfyb"
      },
      "execution_count": 7,
      "outputs": []
    },
    {
      "cell_type": "code",
      "source": [
        "def invert(function, y, interval=(0, 0)):\n",
        "  low, high = interval[0], y\n",
        "\n",
        "  while low <= high:\n",
        "    mid = low + (high - low) / 2\n",
        "    f_mid = function(mid)\n",
        "\n",
        "    if f_mid == y:\n",
        "      return mid\n",
        "    elif f_mid < y:\n",
        "      low = mid\n",
        "    else:\n",
        "      high = mid\n",
        "\n",
        "  return None"
      ],
      "metadata": {
        "id": "hQnz3Levdlwj"
      },
      "execution_count": 5,
      "outputs": []
    },
    {
      "cell_type": "code",
      "source": [
        "# Maybe need fix\n",
        "# More samples?\n",
        "def integrate(function, interval=(0,0)) :\n",
        "  low, high = interval[0], interval[1]\n",
        "  N = 1000\n",
        "  func_a, func_b = function(low), function(high)\n",
        "  arr = np.zeros(N)\n",
        "\n",
        "  for i in range(len(arr)):\n",
        "    x = random.uniform(low, high)\n",
        "    arr[i] = function(x)\n",
        "\n",
        "  integral = np.sum(arr)\n",
        "  result = (high - low) / N * integral\n",
        "\n",
        "  return result"
      ],
      "metadata": {
        "id": "tyVs01lTdn1v"
      },
      "execution_count": 30,
      "outputs": []
    },
    {
      "cell_type": "code",
      "source": [
        "sineFunction = lambda x: math.sin(x)/x"
      ],
      "metadata": {
        "id": "dmCOqwN1ds9D"
      },
      "execution_count": 1,
      "outputs": []
    },
    {
      "cell_type": "code",
      "source": [
        "num = transcendentalFunction()\n",
        "print(\"Inverse of transfunc: \", invert(num, 1000))\n",
        "\n",
        "result = invert(gamma, 87178291200.0, interval=(1.5, 16))\n",
        "print(\"Inverse of gamma function:\", result)\n",
        "result = integrate(sineFunction, interval =(-1, 1))\n",
        "print(result)"
      ],
      "metadata": {
        "colab": {
          "base_uri": "https://localhost:8080/"
        },
        "id": "pAO_FXgE_Tjy",
        "outputId": "a9d4b0f2-c47c-42ed-bda1-55ef3da5897d"
      },
      "execution_count": 29,
      "outputs": [
        {
          "output_type": "stream",
          "name": "stdout",
          "text": [
            "Inverse of transfunc:  5.245185651860719\n",
            "Inverse of gamma function: 15.0\n",
            "1.891358282566968\n"
          ]
        }
      ]
    }
  ]
}